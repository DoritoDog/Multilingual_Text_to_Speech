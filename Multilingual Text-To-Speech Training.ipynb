{
 "cells": [
  {
   "cell_type": "markdown",
   "id": "9b9f084a-5f00-4bc9-b25c-b1491540c4a1",
   "metadata": {
    "tags": []
   },
   "source": [
    "# Multilingual Text-to-Speech"
   ]
  },
  {
   "cell_type": "markdown",
   "id": "ed3a1e67-4b93-4fe6-8c63-076d1c24e98c",
   "metadata": {
    "jp-MarkdownHeadingCollapsed": true,
    "tags": []
   },
   "source": [
    "## Install Dependencies"
   ]
  },
  {
   "cell_type": "code",
   "execution_count": null,
   "id": "8478622b-c1fa-4778-a25d-87a3b64c4854",
   "metadata": {},
   "outputs": [],
   "source": [
    "import sys\n",
    "import os\n",
    "import IPython\n",
    "from IPython.display import Audio"
   ]
  },
  {
   "cell_type": "code",
   "execution_count": null,
   "id": "32141c68",
   "metadata": {},
   "outputs": [],
   "source": [
    "PROJECT_ROOT = os.getcwd()"
   ]
  },
  {
   "cell_type": "code",
   "execution_count": null,
   "id": "60b420f2-4e87-44f6-bff9-2b6ff974d121",
   "metadata": {},
   "outputs": [],
   "source": [
    "! pip install -q --user soundfile\n",
    "! pip install -q --user phonemizer\n",
    "! pip install -q --user epitran\n",
    "! pip install --user protobuf==3.20.3"
   ]
  },
  {
   "cell_type": "code",
   "execution_count": null,
   "id": "095bdccc-2fa6-44a6-ba35-d63f19e2d643",
   "metadata": {},
   "outputs": [],
   "source": [
    "!pip install -r requirements.txt --user\n",
    "!pip install --user --upgrade librosa"
   ]
  },
  {
   "cell_type": "markdown",
   "id": "eeed2ee8-38b1-4718-9340-0870a5216c02",
   "metadata": {
    "jp-MarkdownHeadingCollapsed": true,
    "tags": []
   },
   "source": [
    "## Setup Dataset"
   ]
  },
  {
   "cell_type": "markdown",
   "id": "809c67e5",
   "metadata": {},
   "source": [
    "### Downloads COMVOI - Dutch, German, French, Russian and Chinese audio."
   ]
  },
  {
   "cell_type": "code",
   "execution_count": null,
   "id": "e6022ba4",
   "metadata": {},
   "outputs": [],
   "source": [
    "%%capture\n",
    "\n",
    "!rm -rf data/comvoi\n",
    "!curl -O -L https://github.com/Tomiinek/Multilingual_Text_to_Speech/releases/download/v1.0/comvoi.zip\n",
    "!unzip -q comvoi.zip -d data/comvoi\n",
    "!rm comvoi.zip"
   ]
  },
  {
   "cell_type": "markdown",
   "id": "5aa94fc7",
   "metadata": {},
   "source": [
    "### Downloads VCTK - English audio."
   ]
  },
  {
   "cell_type": "code",
   "execution_count": null,
   "id": "43fdeee9",
   "metadata": {},
   "outputs": [],
   "source": [
    "%%capture\n",
    "\n",
    "!rm -rf data/vctk\n",
    "!curl -O -L http://studio336.sk/css/vctk.zip\n",
    "!mkdir data/vctk\n",
    "!unzip vctk.zip -d data/vctk\n",
    "!rm vctk.zip"
   ]
  },
  {
   "cell_type": "markdown",
   "id": "c62daa9b",
   "metadata": {},
   "source": [
    "### Remove audios in meta.csv files that do not exist."
   ]
  },
  {
   "cell_type": "code",
   "execution_count": null,
   "id": "14ad6192",
   "metadata": {},
   "outputs": [],
   "source": [
    "import shutil\n",
    "\n",
    "base_dir = 'data/comvoi'\n",
    "for lang_dir in os.listdir(base_dir):\n",
    "    # Rename \"meta.csv\" files to \"_meta.csv\".\n",
    "    os.rename(os.path.join(base_dir, lang_dir, 'meta.csv'), os.path.join(base_dir, lang_dir, '_meta.csv'))\n",
    "    \n",
    "    with open(os.path.join(base_dir, lang_dir, '_meta.csv'), mode = 'r', encoding = 'utf-8') as meta_csv:\n",
    "        lines = meta_csv.readlines()\n",
    "        copy_of_lines = lines.copy()\n",
    "        \n",
    "        # Example line: 04|common_voice_fr_18576291.wav|Que suis-je auprès de Lui.\n",
    "        for line in lines:\n",
    "            audio_file_subdir = line.split('|')[0]\n",
    "            audio_file_name = line.split('|')[1]\n",
    "            \n",
    "            # Example audio_file_path: data/comvoi/fr/wavs/04/common_voice_fr_18576287.wav\n",
    "            audio_file_path = os.path.join(base_dir, lang_dir, 'wavs', audio_file_subdir, audio_file_name)\n",
    "            if not os.path.exists(audio_file_path):\n",
    "                copy_of_lines.remove(line)\n",
    "\n",
    "    with open(os.path.join(base_dir, lang_dir, 'meta.csv'), mode = 'w', encoding = 'utf-8') as meta_csv:\n",
    "        meta_csv.writelines(copy_of_lines)"
   ]
  },
  {
   "cell_type": "markdown",
   "id": "37cd01ba",
   "metadata": {},
   "source": [
    "### Creates a train.txt file that stores information for each dataset.\n",
    "### Also generates spectrograms for each audio file."
   ]
  },
  {
   "cell_type": "code",
   "execution_count": null,
   "id": "fc5961a9-07cd-4ea8-b0a2-496b9bed269b",
   "metadata": {},
   "outputs": [],
   "source": [
    "import dataset.dataset as ds\n",
    "ds.TextToSpeechDataset.create_meta_file('my_common_voice', 'data/comvoi', 'train.txt', 22050, 1102, True, False)"
   ]
  },
  {
   "cell_type": "code",
   "execution_count": null,
   "id": "418d8398",
   "metadata": {
    "scrolled": true
   },
   "outputs": [],
   "source": [
    "import dataset.dataset as ds\n",
    "ds.TextToSpeechDataset.create_meta_file('vctk', 'data/vctk/VCTK-Corpus/VCTK-Corpus', 'train.txt', 22050, 1102, True, False)"
   ]
  },
  {
   "cell_type": "code",
   "execution_count": null,
   "id": "af0d9480",
   "metadata": {},
   "outputs": [],
   "source": [
    "# Combine COMVOI and VCTK train.txt files\n",
    "\n",
    "!cat data/comvoi/train.txt data/vctk/VCTK-Corpus/VCTK-Corpus/train.txt > data/comvoi_vctk/train.txt"
   ]
  },
  {
   "cell_type": "markdown",
   "id": "0514202e",
   "metadata": {},
   "source": [
    "### Ensure that file paths are relative to data/comvoi_vctk directory."
   ]
  },
  {
   "cell_type": "code",
   "execution_count": null,
   "id": "03f4eb3c",
   "metadata": {},
   "outputs": [],
   "source": [
    "# Back up the train.txt file first.\n",
    "!cp data/comvoi_vctk/train.txt data/comvoi_vctk/_train.txt"
   ]
  },
  {
   "cell_type": "code",
   "execution_count": null,
   "id": "a97c4eb9",
   "metadata": {},
   "outputs": [],
   "source": [
    "COMVOI_LANGUAGES = ['de', 'fr', 'nl', 'ru', 'zh']\n",
    "VCTK_LANGUAGES = ['en-us']\n",
    "\n",
    "with open('data/comvoi_vctk/_train.txt', mode = 'r', encoding = 'utf-8') as file:\n",
    "    lines = file.readlines()\n",
    "    for i in range(len(lines)):\n",
    "        line = lines[i]\n",
    "        line_parts = line.split('|')\n",
    "        lang = line_parts[2]\n",
    "        if lang in COMVOI_LANGUAGES:\n",
    "            # Change e.g. \"de/wavs/01/common_voice_de_18362579.wav\" to \"../comvoi/de/wavs/01/common_voice_de_18362579.wav\"\n",
    "            line_parts[3] = os.path.join('../comvoi/', line_parts[3])\n",
    "            line_parts[4] = os.path.join('../comvoi/', line_parts[4])\n",
    "            line_parts[5] = os.path.join('../comvoi/', line_parts[5])\n",
    "            lines[i] = '|'.join(line_parts)\n",
    "        \n",
    "        if lang in VCTK_LANGUAGES:\n",
    "            line_parts[3] = os.path.join('../vctk/VCTK-Corpus/VCTK-Corpus/', line_parts[3])\n",
    "            line_parts[4] = os.path.join('../vctk/VCTK-Corpus/VCTK-Corpus/', line_parts[4])\n",
    "            line_parts[5] = os.path.join('../vctk/VCTK-Corpus/VCTK-Corpus/', line_parts[5])\n",
    "            lines[i] = '|'.join(line_parts)\n",
    "\n",
    "    with open('data/comvoi_vctk/train.txt', mode = 'w', encoding = 'utf-8') as file:\n",
    "        file.writelines(lines)"
   ]
  },
  {
   "cell_type": "code",
   "execution_count": null,
   "id": "85fa2117",
   "metadata": {},
   "outputs": [],
   "source": [
    "!rm data/comvoi_vctk/_train.txt"
   ]
  },
  {
   "cell_type": "markdown",
   "id": "e7217bec",
   "metadata": {},
   "source": [
    "### Split data into train.txt and val.txt."
   ]
  },
  {
   "cell_type": "code",
   "execution_count": null,
   "id": "a80ed42b",
   "metadata": {},
   "outputs": [],
   "source": [
    "# Back up the train.txt file first.\n",
    "!cp data/comvoi_vctk/train.txt data/comvoi_vctk/_train.txt"
   ]
  },
  {
   "cell_type": "code",
   "execution_count": null,
   "id": "42521ac5",
   "metadata": {},
   "outputs": [],
   "source": [
    "from tqdm import tqdm\n",
    "from sklearn.model_selection import train_test_split\n",
    "\n",
    "with open('data/comvoi_vctk/_train.txt', mode = 'r', encoding = 'utf-8') as file:\n",
    "    all_lines = file.readlines()\n",
    "    train, val = train_test_split(all_lines, test_size=0.15, random_state=42)\n",
    "    print(len(train))\n",
    "    print(len(val))\n",
    "        \n",
    "    with open('data/comvoi_vctk/train.txt', mode = 'w', encoding = 'utf-8') as file:\n",
    "        file.writelines(train)\n",
    "    with open('data/comvoi_vctk/val.txt', mode = 'w', encoding = 'utf-8') as file:\n",
    "        file.writelines(val)"
   ]
  },
  {
   "cell_type": "code",
   "execution_count": null,
   "id": "5f46db6a",
   "metadata": {},
   "outputs": [],
   "source": [
    "!rm data/comvoi_vctk/_train.txt"
   ]
  },
  {
   "cell_type": "markdown",
   "id": "3d425c2d-0b0c-46ba-b2df-29f1d1ea6ad9",
   "metadata": {
    "tags": []
   },
   "source": [
    "## Train"
   ]
  },
  {
   "cell_type": "code",
   "execution_count": null,
   "id": "a0282e35-e100-4bd2-83d8-bfe9bb1cf683",
   "metadata": {
    "tags": []
   },
   "outputs": [],
   "source": [
    "os.chdir(PROJECT_ROOT)\n",
    "\n",
    "!PYTHONIOENCODING=utf-8 python3 train.py --hyper_parameters generated_switching_comvoi_vctk"
   ]
  },
  {
   "cell_type": "markdown",
   "id": "b1c7c5be",
   "metadata": {},
   "source": [
    "### Zip logs"
   ]
  },
  {
   "cell_type": "code",
   "execution_count": null,
   "id": "6216a08a",
   "metadata": {},
   "outputs": [],
   "source": [
    "%cd ~/Multilingual_Text_to_Speech\n",
    "!rm logs.zip\n",
    "!zip logs.zip -r logs"
   ]
  },
  {
   "cell_type": "markdown",
   "id": "1f7e6353-273a-459c-b328-ec2789e87ee3",
   "metadata": {
    "tags": []
   },
   "source": [
    "## Test"
   ]
  },
  {
   "cell_type": "code",
   "execution_count": null,
   "id": "98d9e5ca-4f7c-4e5f-b349-c9a4b1749651",
   "metadata": {},
   "outputs": [],
   "source": [
    "!echo \"fr|Cette requête s'explique par les relations peu conventionnelles que Schrödinger entretient avec les femmes.|01-zh|fr\"  | python3 synthesize.py --checkpoint checkpoints/GENERATED-SWITCHING_loss-3-0.375 --save_spec\n",
    "!echo \"ru|Как считают современные археологи, на месте находились четыре различных храма.|01-zh|ru\"  | python3 synthesize.py --checkpoint checkpoints/GENERATED-SWITCHING_loss-3-0.375 --save_spec\n",
    "!echo \"de|Sie liegt zwischen dem Ijsselmeer, der Ijssel und den Hügeln der Veluwe.|01-zh|de\"  | python3 synthesize.py --checkpoint checkpoints/GENERATED-SWITCHING_loss-3-0.375 --save_spec\n",
    "!echo \"zh|wǒ zài nián qīng shí hou yě céng jīng zuò guò xǔ duō mèng.|01-zh|zh\"  | python3 synthesize.py --checkpoint checkpoints/GENERATED-SWITCHING_loss-3-0.375 --save_spec\n",
    "!echo \"en|Now, the way I would do it is by better analysing the data.|01-zh|en-us\"  | python3 synthesize.py --checkpoint checkpoints/GENERATED-SWITCHING_loss-3-0.375 --save_spec\n",
    "\n",
    "import IPython.display as ipd\n",
    "ipd.display(ipd.Audio('fr.wav'))\n",
    "ipd.display(ipd.Audio('ru.wav'))\n",
    "ipd.display(ipd.Audio('de.wav'))\n",
    "ipd.display(ipd.Audio('zh.wav'))\n",
    "ipd.display(ipd.Audio('en.wav'))"
   ]
  }
 ],
 "metadata": {
  "kernelspec": {
   "display_name": "Python 3 (ipykernel)",
   "language": "python",
   "name": "python3"
  },
  "language_info": {
   "codemirror_mode": {
    "name": "ipython",
    "version": 3
   },
   "file_extension": ".py",
   "mimetype": "text/x-python",
   "name": "python",
   "nbconvert_exporter": "python",
   "pygments_lexer": "ipython3",
   "version": "3.8.15"
  }
 },
 "nbformat": 4,
 "nbformat_minor": 5
}
